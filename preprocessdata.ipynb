{
 "cells": [
  {
   "cell_type": "code",
   "execution_count": 233,
   "metadata": {},
   "outputs": [],
   "source": [
    "import os\n",
    "import pandas as pd\n",
    "import string\n",
    "import unicodedata\n",
    "import re\n",
    "\n",
    "folder_path = 'Forms/AV1'\n",
    "files = [f for f in os.listdir(folder_path) if os.path.isfile(os.path.join(folder_path, f))]"
   ]
  },
  {
   "cell_type": "code",
   "execution_count": 234,
   "metadata": {},
   "outputs": [],
   "source": [
    "def preprocess_column(list_):\n",
    "\n",
    "    p = list()\n",
    "\n",
    "    for el in list_:\n",
    "\n",
    "        v = str(el).translate(str.maketrans('', '', string.punctuation)).lower()\n",
    "        v = unicodedata.normalize('NFD', v)\n",
    "        v = ''.join(c for c in v if unicodedata.category(c) != 'Mn')\n",
    "\n",
    "        v = v.strip()\n",
    "        v = re.sub(r'\\s+', ' ', v)\n",
    "\n",
    "\n",
    "        p.append(v)\n",
    "\n",
    "    return p"
   ]
  },
  {
   "cell_type": "code",
   "execution_count": 235,
   "metadata": {},
   "outputs": [],
   "source": [
    "list_df = list()\n",
    "d = {}\n",
    "\n",
    "for file in files:\n",
    "\n",
    "    df = pd.read_excel(f\"{folder_path}/{file}\")\n",
    "    df.columns = preprocess_column(list(df.columns))\n",
    "    cpf_column = [x for x in list(df.columns) if \"cpf\" in x]\n",
    "    assert len(cpf_column) == 1\n",
    "    df[\"cpf\"] = preprocess_column(list(df[cpf_column[0]]))\n",
    "\n",
    "    pont_column = [x for x in list(df.columns) if \"pontuacao\" in x]\n",
    "    assert len(pont_column) == 1\n",
    "    df[f\"{file}_pontuacao\"] = preprocess_column(list(df[pont_column[0]]))\n",
    "\n",
    "    d_ = df.set_index(\"cpf\")[f\"{file}_pontuacao\"].to_dict()\n",
    "\n",
    "    d[file] = d_"
   ]
  },
  {
   "cell_type": "code",
   "execution_count": 239,
   "metadata": {},
   "outputs": [
    {
     "name": "stdout",
     "output_type": "stream",
     "text": [
      "85\n",
      "94\n",
      "83\n",
      "89\n",
      "82\n",
      "87\n",
      "89\n"
     ]
    }
   ],
   "source": [
    "for key in list(d.keys()):\n",
    "\n",
    "    df_d = pd.DataFrame.from_dict(d[key])\n",
    "\n",
    "    print(len(d[key]))"
   ]
  },
  {
   "cell_type": "code",
   "execution_count": 241,
   "metadata": {},
   "outputs": [
    {
     "data": {
      "text/plain": [
       "{'10729965457': '9',\n",
       " '71143562429': '10',\n",
       " '11630750433': '5',\n",
       " '12422429459': '10',\n",
       " '8885476414': '10',\n",
       " '9676480339': '10',\n",
       " '13824638479': '10',\n",
       " '6256907450': '8',\n",
       " '13900373477': '10',\n",
       " '6537370337': '10',\n",
       " '8276023401': '9',\n",
       " '12360927400': '10',\n",
       " '3490430433': '9',\n",
       " '5414697540': '6',\n",
       " '70475844475': '9',\n",
       " '61436942306': '10',\n",
       " '12246436400': '10',\n",
       " '10740290541': '10',\n",
       " '7640174465': '8',\n",
       " '11638329443': '10',\n",
       " '6860991330': '10',\n",
       " '70513644482': '10',\n",
       " '11229057420': '10',\n",
       " '3091564240': '10',\n",
       " '70922207429': '10',\n",
       " '8766383455': '10',\n",
       " '6601727393': '10',\n",
       " '14657853457': '10',\n",
       " '12476409499': '8',\n",
       " '8972578479': '10',\n",
       " '13255067456': '9',\n",
       " '7216257383': '10',\n",
       " '5224970555': '10',\n",
       " '7214858398': '10',\n",
       " '7273607363': '10',\n",
       " '7344504359': '9',\n",
       " '12950633447': '10',\n",
       " '7489111463': '10',\n",
       " '14741643409': '10',\n",
       " '11143715489': '10',\n",
       " '8523294406': '10',\n",
       " '13707367460': '9',\n",
       " '44681507857': '10',\n",
       " '8251418429': '10',\n",
       " '70259324426': '10',\n",
       " '14182225422': '9',\n",
       " '8930254373': '10',\n",
       " '70586341498': '10',\n",
       " '70630745471': '10',\n",
       " '11777908400': '10',\n",
       " '83993037553': '10',\n",
       " '6780548359': '10',\n",
       " '14458223429': '10',\n",
       " '10881196460': '9',\n",
       " '6305762465': '10',\n",
       " '7930128482': '10',\n",
       " '70361759401': '10',\n",
       " '12461791481': '10',\n",
       " '11036270408': '9',\n",
       " '14475116465': '7',\n",
       " '70855182431': '10',\n",
       " '8365177412': '10',\n",
       " '13468796480': '10',\n",
       " '7116086447': '10',\n",
       " '11376205440': '9',\n",
       " '8431589485': '10',\n",
       " '70964115425': '10',\n",
       " '12663908479': '9',\n",
       " '11063714451': '10',\n",
       " '9492807475': '10',\n",
       " '12649747447': '10',\n",
       " '6980941313': '10',\n",
       " '3674496330': '10',\n",
       " '37946019807': '10',\n",
       " '5895386598': '10',\n",
       " '12080702408': '10',\n",
       " '12126333426': '10',\n",
       " '7369059448': '10',\n",
       " '7143037478': '9',\n",
       " '11248132416': '7',\n",
       " '6137461394': '10',\n",
       " '9900643445': '9',\n",
       " '62197604333': '10',\n",
       " '71536283479': '10',\n",
       " '11013202490': '10',\n",
       " '11409660494': '5',\n",
       " '10751051454': '10',\n",
       " '4262354369': '10',\n",
       " '4248281384': '10'}"
      ]
     },
     "execution_count": 241,
     "metadata": {},
     "output_type": "execute_result"
    }
   ],
   "source": [
    "d[key]"
   ]
  },
  {
   "cell_type": "code",
   "execution_count": null,
   "metadata": {},
   "outputs": [],
   "source": []
  }
 ],
 "metadata": {
  "kernelspec": {
   "display_name": "Python 3",
   "language": "python",
   "name": "python3"
  },
  "language_info": {
   "codemirror_mode": {
    "name": "ipython",
    "version": 3
   },
   "file_extension": ".py",
   "mimetype": "text/x-python",
   "name": "python",
   "nbconvert_exporter": "python",
   "pygments_lexer": "ipython3",
   "version": "3.10.12"
  }
 },
 "nbformat": 4,
 "nbformat_minor": 2
}
