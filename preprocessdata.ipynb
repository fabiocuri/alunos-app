{
 "cells": [
  {
   "cell_type": "code",
   "execution_count": 412,
   "metadata": {},
   "outputs": [],
   "source": [
    "import os\n",
    "import pandas as pd\n",
    "import string\n",
    "import unicodedata\n",
    "import re\n",
    "\n",
    "folder_path = 'Forms/AV1'\n",
    "files = [f for f in os.listdir(folder_path) if os.path.isfile(os.path.join(folder_path, f))]"
   ]
  },
  {
   "cell_type": "code",
   "execution_count": 413,
   "metadata": {},
   "outputs": [],
   "source": [
    "def preprocess_column(list_):\n",
    "\n",
    "    p = list()\n",
    "\n",
    "    for el in list_:\n",
    "\n",
    "        v = str(el).translate(str.maketrans('', '', string.punctuation)).lower()\n",
    "        v = unicodedata.normalize('NFD', v)\n",
    "        v = ''.join(c for c in v if unicodedata.category(c) != 'Mn')\n",
    "\n",
    "        v = v.strip()\n",
    "        v = re.sub(r'\\s+', ' ', v)\n",
    "\n",
    "        p.append(v)\n",
    "\n",
    "    return p"
   ]
  },
  {
   "cell_type": "code",
   "execution_count": 414,
   "metadata": {},
   "outputs": [],
   "source": [
    "list_df = list()\n",
    "\n",
    "for file in files:\n",
    "\n",
    "    df = pd.read_excel(f\"{folder_path}/{file}\")\n",
    "    df.columns = preprocess_column(list(df.columns))\n",
    "    cpf_column = [x for x in list(df.columns) if \"cpf\" in x]\n",
    "    assert len(cpf_column) == 1\n",
    "    df[\"cpf\"] = preprocess_column(list(df[cpf_column[0]]))\n",
    "    df[\"cpf\"] = [\"0\" + el if len(el)==10 else el for el in list(df[\"cpf\"])]\n",
    "\n",
    "    pont_column = [x for x in list(df.columns) if \"pontuacao\" in x]\n",
    "    assert len(pont_column) == 1\n",
    "    df[f\"{file}_pontuacao\"] = preprocess_column(list(df[pont_column[0]]))\n",
    "\n",
    "    df = df[[\"cpf\", f\"{file}_pontuacao\"]]\n",
    "\n",
    "    list_df.append(df)"
   ]
  },
  {
   "cell_type": "code",
   "execution_count": 415,
   "metadata": {},
   "outputs": [],
   "source": [
    "out_df = list_df[0]\n",
    "\n",
    "# Merge the remaining DataFrames on the 'cpf' column\n",
    "for df in list_df[1:]:\n",
    "    # Merge using outer join on 'cpf' to keep all unique cpfs\n",
    "    out_df = pd.merge(out_df, df, on='cpf', how='outer')\n",
    "\n",
    "out_df.fillna(\"\", inplace=True)"
   ]
  },
  {
   "cell_type": "code",
   "execution_count": 416,
   "metadata": {},
   "outputs": [],
   "source": [
    "out_df = out_df.groupby('cpf').agg(list)\n",
    "out_df.reset_index(inplace=True)"
   ]
  },
  {
   "cell_type": "code",
   "execution_count": 417,
   "metadata": {},
   "outputs": [],
   "source": [
    "out_df.to_excel(\"results.xlsx\", index=None)"
   ]
  }
 ],
 "metadata": {
  "kernelspec": {
   "display_name": "Python 3",
   "language": "python",
   "name": "python3"
  },
  "language_info": {
   "codemirror_mode": {
    "name": "ipython",
    "version": 3
   },
   "file_extension": ".py",
   "mimetype": "text/x-python",
   "name": "python",
   "nbconvert_exporter": "python",
   "pygments_lexer": "ipython3",
   "version": "3.10.12"
  }
 },
 "nbformat": 4,
 "nbformat_minor": 2
}
